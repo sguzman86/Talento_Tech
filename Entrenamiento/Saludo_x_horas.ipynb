{
  "nbformat": 4,
  "nbformat_minor": 0,
  "metadata": {
    "colab": {
      "provenance": []
    },
    "kernelspec": {
      "name": "python3",
      "display_name": "Python 3"
    },
    "language_info": {
      "name": "python"
    }
  },
  "cells": [
    {
      "cell_type": "code",
      "source": [
        "def obtener_hora():\n",
        "    while True:\n",
        "        try:\n",
        "            hora = int(input(\"Ingrese la hora en formato militar (0-23): \"))\n",
        "            if 0 <= hora <= 23:\n",
        "                return hora\n",
        "            else:\n",
        "                print(\"Por favor, ingrese una hora válida entre 0 y 23.\")\n",
        "        except ValueError:\n",
        "            print(\"Entrada no válida. Asegúrese de ingresar un número entero.\")\n",
        "def saludar(hora):\n",
        "    if hora < 12:\n",
        "        saludo = \"¡Buenos días! Espero que tengas un día productivo y lleno de energía.\"\n",
        "    elif hora < 18:\n",
        "        saludo = \"¡Buenas tardes! Espero que estés disfrutando de tu día.\"\n",
        "    else:\n",
        "        saludo = \"¡Buenas noches! Espero que hayas tenido un gran día y que descanses bien.\"\n",
        "    print(saludo)\n",
        "# Obtener la hora del usuario\n",
        "hora = obtener_hora()\n",
        "# Saludar según la hora\n",
        "saludar(hora)"
      ],
      "metadata": {
        "colab": {
          "base_uri": "https://localhost:8080/"
        },
        "id": "HvFRqvAwlvVs",
        "outputId": "4fb93a4b-8cd5-4c76-9439-764fe1f91e5b"
      },
      "execution_count": 4,
      "outputs": [
        {
          "output_type": "stream",
          "name": "stdout",
          "text": [
            "Ingrese la hora en formato militar (0-23): 20\n",
            "¡Buenas noches! Espero que hayas tenido un gran día y que descanses bien.\n"
          ]
        }
      ]
    },
    {
      "cell_type": "code",
      "source": [],
      "metadata": {
        "id": "BrciD0j6mpXs"
      },
      "execution_count": null,
      "outputs": []
    }
  ]
}