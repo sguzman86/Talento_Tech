{
  "nbformat": 4,
  "nbformat_minor": 0,
  "metadata": {
    "colab": {
      "provenance": []
    },
    "kernelspec": {
      "name": "python3",
      "display_name": "Python 3"
    },
    "language_info": {
      "name": "python"
    }
  },
  "cells": [
    {
      "cell_type": "code",
      "execution_count": null,
      "metadata": {
        "colab": {
          "base_uri": "https://localhost:8080/"
        },
        "id": "PrKA9EEZV0pS",
        "outputId": "9f02746f-e5ba-4f66-b27d-1d193e00152f"
      },
      "outputs": [
        {
          "output_type": "stream",
          "name": "stdout",
          "text": [
            "Bienvenido a mi calculadora avanzada\n",
            "Operaciones disponibles:\n",
            "1. Potenciación\n",
            "2. Raíz cuadrada\n",
            "3. log10\n",
            "4. Seno\n",
            "5. Coseno\n",
            "6. Tangente\n",
            "Escriba el número de la operación que desea realizar: 4\n",
            "Ingresa un ángulo en grados: 8\n",
            "El seno del ángulo es: 0.13917310096006544\n"
          ]
        }
      ],
      "source": [
        "import math  # Importamos la librería matemática para Python\n",
        "\n",
        "# Mostramos el menú de operaciones disponibles en la calculadora\n",
        "print(\"Bienvenido a mi calculadora avanzada\")\n",
        "print(\"Operaciones disponibles:\")\n",
        "print(\"1. Potenciación\")\n",
        "print(\"2. Raíz cuadrada\")\n",
        "print(\"3. log10\")\n",
        "print(\"4. Seno\")\n",
        "print(\"5. Coseno\")\n",
        "print(\"6. Tangente\")\n",
        "\n",
        "# Mediante \"imput\" se pide al usuario que elija una operación mientras el programa se ejecuta\n",
        "operación = input(\"Escriba el número de la operación que desea realizar: \")\n",
        "\n",
        "if operación == \"1\":\n",
        "    base = float(input(\"Ingrese la base: \"))\n",
        "    exponente = float(input(\"Ingresa el exponente: \"))\n",
        "    resultado = base ** exponente\n",
        "    print(\"El resultado es:\", resultado)\n",
        "\n",
        "# \"if\" evalúa como condición la restricción matemática para la operación\n",
        "# Con la condición verdadera devuelve \"print\"\n",
        "# Con la condición falsa ejecuta \"else\"\n",
        "if operación == \"2\":\n",
        "    número = float(input(\"Ingrese el radicando: \"))\n",
        "    if número < 0:\n",
        "        print(\"No se puede sacar la raíz cuadrada de un número negativo.\")\n",
        "    else:\n",
        "        resultado = math.sqrt(número)\n",
        "        print(\"La raíz cuadrada es:\", resultado)\n",
        "\n",
        "# LOG10\n",
        "if operación == \"3\":\n",
        "    número = float(input(\"Ingrese un número positivo como argumento del logaritmo: \"))\n",
        "    if número <= 0:\n",
        "        print(\"El logaritmo solo se puede hacer con números positivos.\")\n",
        "    else:\n",
        "        resultado = math.log10(número)\n",
        "        print(\"El logaritmo base 10 es:\", resultado)\n",
        "\n",
        "# SENO\n",
        "if operación == \"4\":\n",
        "    ángulo = float(input(\"Ingresa un ángulo en grados: \"))\n",
        "    radianes = math.radians(ángulo)\n",
        "    resultado = math.sin(radianes)\n",
        "    print(\"El seno del ángulo es:\", resultado)\n",
        "\n",
        "# COSENO\n",
        "if operación == \"5\":\n",
        "    ángulo = float(input(\"Ingresa un ángulo en grados: \"))\n",
        "    radianes = math.radians(ángulo)\n",
        "    resultado = math.cos(radianes)\n",
        "    print(\"El coseno del ángulo es:\", resultado)\n",
        "\n",
        "# TANGENTE\n",
        "if operación == \"6\":\n",
        "    ángulo = float(input(\"Ingresa un ángulo en grados: \"))\n",
        "    if ángulo % 180 == 90:\n",
        "        print(\"La tangente no está definida para 90°, 270°, etc.\")\n",
        "    else:\n",
        "        radianes = math.radians(ángulo)\n",
        "        resultado = math.tan(radianes)\n",
        "        print(\"La tangente del ángulo es:\", resultado)"
      ]
    }
  ]
}