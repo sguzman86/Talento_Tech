{
  "nbformat": 4,
  "nbformat_minor": 0,
  "metadata": {
    "colab": {
      "provenance": []
    },
    "kernelspec": {
      "name": "python3",
      "display_name": "Python 3"
    },
    "language_info": {
      "name": "python"
    }
  },
  "cells": [
    {
      "cell_type": "code",
      "execution_count": null,
      "metadata": {
        "colab": {
          "base_uri": "https://localhost:8080/"
        },
        "id": "Ays1Fb5ug1Cq",
        "outputId": "ff35fda0-5895-4468-a321-e7d83b19466e"
      },
      "outputs": [
        {
          "output_type": "stream",
          "name": "stdout",
          "text": [
            "Bienvenido a mi calculadora simple, estas son las operaciones disponibles:\n",
            "Elije una opción\n",
            "1. Suma\n",
            "2. Resta\n",
            "3. Multiplicación\n",
            "4. División\n",
            "Ingrese el número de la operación que desea realizar4\n",
            "ingrese un número4\n",
            "ingrese otro número0\n",
            "¡No es posible dividir entre cero!\n"
          ]
        }
      ],
      "source": [
        "print(\"Bienvenido a mi calculadora simple, estas son las operaciones disponibles:\")\n",
        "print(\"Elije una opción\")\n",
        "print(\"1. Suma\")\n",
        "print(\"2. Resta\")\n",
        "print(\"3. Multiplicación\")\n",
        "print(\"4. División\")\n",
        "operación=input(\"Ingrese el número de la operación que desea realizar\")\n",
        "if operación==\"1\":\n",
        "  número_uno=input(\"ingrese un número\")\n",
        "  número_dos=input(\"ingrese otro número\")\n",
        "  resultado=int(número_uno)+int(número_dos)\n",
        "  print(\"El resultado es\", resultado)\n",
        "if operación==\"2\":\n",
        "  número_uno=input(\"ingrese un número\")\n",
        "  número_dos=input(\"ingrese otro número\")\n",
        "  resultado=int(número_uno)-int(número_dos)\n",
        "  print(\"El resultado es\", resultado)\n",
        "if operación==\"3\":\n",
        "  número_uno=input(\"ingrese un número\")\n",
        "  número_dos=input(\"ingrese otro número\")\n",
        "  resultado=int(número_uno)*int(número_dos)\n",
        "  print(\"El resultado es\", resultado)\n",
        "if operación==\"4\":\n",
        "  número_uno=input(\"ingrese un número\")\n",
        "  número_dos=input(\"ingrese otro número\")\n",
        "  # verifica si el divisor es 0 antes de operar.\n",
        "  if número_dos == \"0\":\n",
        "    print(\"¡No es posible dividir entre cero!\")\n",
        "  else:\n",
        "    resultado=int(número_uno)/int(número_dos)\n",
        "    print(\"El resultado es\", resultado)\n"
      ]
    },
    {
      "cell_type": "markdown",
      "source": [],
      "metadata": {
        "id": "XPE94A9EuszE"
      }
    },
    {
      "cell_type": "markdown",
      "source": [],
      "metadata": {
        "id": "UfQgWtZzgpq1"
      }
    }
  ]
}