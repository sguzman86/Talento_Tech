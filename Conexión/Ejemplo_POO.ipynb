{
  "nbformat": 4,
  "nbformat_minor": 0,
  "metadata": {
    "colab": {
      "provenance": []
    },
    "kernelspec": {
      "name": "python3",
      "display_name": "Python 3"
    },
    "language_info": {
      "name": "python"
    }
  },
  "cells": [
    {
      "cell_type": "code",
      "source": [
        "# Definición de la clase base Animal\n",
        "class Animal:\n",
        "    def __init__(self, nombre, especie, sonido):\n",
        "        self.nombre = nombre\n",
        "        self.especie = especie\n",
        "        self.sonido = sonido\n",
        "\n",
        "    def hacer_sonido(self):\n",
        "        return f\"{self.nombre} hace {self.sonido}\"\n",
        "\n",
        "# Subclase para Perro\n",
        "class Perro(Animal):\n",
        "    def __init__(self, nombre, raza):\n",
        "        super().__init__(nombre, \"Perro\", \"guau\")\n",
        "        self.raza = raza\n",
        "\n",
        "    def info(self):\n",
        "        return f\"{self.nombre} es un {self.raza}.\"\n",
        "\n",
        "# Subclase para Gato\n",
        "class Gato(Animal):\n",
        "    def __init__(self, nombre, color):\n",
        "        super().__init__(nombre, \"Gato\", \"miau\")\n",
        "        self.color = color\n",
        "\n",
        "    def info(self):\n",
        "        return f\"{self.nombre} es un gato de color {self.color}.\"\n",
        "\n",
        "# Creación de instancias de los animales\n",
        "perro1 = Perro(\"Rex\", \"Labrador\")\n",
        "gato1 = Gato(\"Michis\", \"blanco\")\n",
        "\n",
        "# Uso de los métodos\n",
        "print(perro1.hacer_sonido())\n",
        "print(perro1.info())\n",
        "print(gato1.hacer_sonido())\n",
        "print(gato1.info())\n"
      ],
      "metadata": {
        "colab": {
          "base_uri": "https://localhost:8080/"
        },
        "id": "r1fZNEMfvma8",
        "outputId": "218423a3-6b95-494b-d046-617fd8aa3bc7"
      },
      "execution_count": 5,
      "outputs": [
        {
          "output_type": "stream",
          "name": "stdout",
          "text": [
            "Rex hace guau\n",
            "Rex es un Labrador.\n",
            "Michis hace miau\n",
            "Michis es un gato de color blanco.\n"
          ]
        }
      ]
    }
  ]
}