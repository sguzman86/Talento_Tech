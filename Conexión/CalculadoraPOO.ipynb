{
  "nbformat": 4,
  "nbformat_minor": 0,
  "metadata": {
    "colab": {
      "provenance": []
    },
    "kernelspec": {
      "name": "python3",
      "display_name": "Python 3"
    },
    "language_info": {
      "name": "python"
    }
  },
  "cells": [
    {
      "cell_type": "code",
      "source": [
        "# Calculadora Simple - Versión Google Colab\n",
        "class Calculadora:\n",
        "    def __init__(self):\n",
        "        self.mostrar_menu()\n",
        "\n",
        "    def mostrar_menu(self):\n",
        "        print(\"Bienvenido a mi calculadora simple, estas son las operaciones disponibles:\")\n",
        "        print(\"1. Suma\")\n",
        "        print(\"2. Resta\")\n",
        "        print(\"3. Multiplicación\")\n",
        "        print(\"4. División\")\n",
        "        self.obtener_operacion()\n",
        "\n",
        "    def obtener_operacion(self):\n",
        "        self.operacion = input(\"Ingrese el número de la operación que desea realizar: \")\n",
        "        self.obtener_numeros()\n",
        "\n",
        "    def obtener_numeros(self):\n",
        "        self.numero_uno = float(input(\"Ingrese el primer número: \"))\n",
        "        self.numero_dos = float(input(\"Ingrese el segundo número: \"))\n",
        "        self.realizar_operacion()\n",
        "\n",
        "    def realizar_operacion(self):\n",
        "        if self.operacion == \"1\":\n",
        "            self.suma()\n",
        "        elif self.operacion == \"2\":\n",
        "            self.resta()\n",
        "        elif self.operacion == \"3\":\n",
        "            self.multiplicacion()\n",
        "        elif self.operacion == \"4\":\n",
        "            self.division()\n",
        "        else:\n",
        "            print(\"Operación no válida\")\n",
        "            self.mostrar_menu()\n",
        "\n",
        "    def suma(self):\n",
        "        resultado = self.numero_uno + self.numero_dos\n",
        "        print(f\"El resultado de la suma es: {resultado}\")\n",
        "\n",
        "    def resta(self):\n",
        "        resultado = self.numero_uno - self.numero_dos\n",
        "        print(f\"El resultado de la resta es: {resultado}\")\n",
        "\n",
        "    def multiplicacion(self):\n",
        "        resultado = self.numero_uno * self.numero_dos\n",
        "        print(f\"El resultado de la multiplicación es: {resultado}\")\n",
        "\n",
        "    def division(self):\n",
        "        if self.numero_dos == 0:\n",
        "            print(\"¡No es posible dividir entre cero!\")\n",
        "        else:\n",
        "            resultado = self.numero_uno / self.numero_dos\n",
        "            print(f\"El resultado de la división es: {resultado}\")\n",
        "\n",
        "# Para Google Colab, puedes agregar esto para mayor claridad\n",
        "print(\"Iniciando calculadora...\")\n",
        "mi_calculadora = Calculadora()"
      ],
      "metadata": {
        "id": "vTn38zeGUbkc",
        "colab": {
          "base_uri": "https://localhost:8080/"
        },
        "outputId": "b55fcaae-67a5-4e83-b744-cce864331a1c"
      },
      "execution_count": 1,
      "outputs": [
        {
          "output_type": "stream",
          "name": "stdout",
          "text": [
            "Iniciando calculadora...\n",
            "Bienvenido a mi calculadora simple, estas son las operaciones disponibles:\n",
            "1. Suma\n",
            "2. Resta\n",
            "3. Multiplicación\n",
            "4. División\n",
            "Ingrese el número de la operación que desea realizar: 4\n",
            "Ingrese el primer número: 8\n",
            "Ingrese el segundo número: 2\n",
            "El resultado de la división es: 4.0\n"
          ]
        }
      ]
    }
  ]
}